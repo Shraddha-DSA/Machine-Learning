{
 "cells": [
  {
   "cell_type": "code",
   "execution_count": 1,
   "id": "378d8d40-b11e-4a28-93d4-0b2e75c078aa",
   "metadata": {},
   "outputs": [],
   "source": [
    "import numpy as np\n",
    "import pandas as pd"
   ]
  },
  {
   "cell_type": "code",
   "execution_count": 2,
   "id": "2c90e6b5-bfc4-4724-b2ba-552d51c1bf9f",
   "metadata": {},
   "outputs": [],
   "source": [
    "data = pd.read_csv(r\"C:\\Users\\Shraddha\\Downloads\\c6590d0cf119e87c39e31c21a9c0f3a8-4a8e3da267a0c1f0d650901d8295a5153bde8b21\\Play_Tennis\\PlayTennis.csv\")"
   ]
  },
  {
   "cell_type": "code",
   "execution_count": 3,
   "id": "084efbfb-e86d-45ea-9d1f-aa1675ac530e",
   "metadata": {},
   "outputs": [
    {
     "data": {
      "text/html": [
       "<div>\n",
       "<style scoped>\n",
       "    .dataframe tbody tr th:only-of-type {\n",
       "        vertical-align: middle;\n",
       "    }\n",
       "\n",
       "    .dataframe tbody tr th {\n",
       "        vertical-align: top;\n",
       "    }\n",
       "\n",
       "    .dataframe thead th {\n",
       "        text-align: right;\n",
       "    }\n",
       "</style>\n",
       "<table border=\"1\" class=\"dataframe\">\n",
       "  <thead>\n",
       "    <tr style=\"text-align: right;\">\n",
       "      <th></th>\n",
       "      <th>Outlook</th>\n",
       "      <th>Temperature</th>\n",
       "      <th>Humidity</th>\n",
       "      <th>Wind</th>\n",
       "      <th>Play Tennis</th>\n",
       "    </tr>\n",
       "  </thead>\n",
       "  <tbody>\n",
       "    <tr>\n",
       "      <th>0</th>\n",
       "      <td>Sunny</td>\n",
       "      <td>Hot</td>\n",
       "      <td>High</td>\n",
       "      <td>Weak</td>\n",
       "      <td>No</td>\n",
       "    </tr>\n",
       "    <tr>\n",
       "      <th>1</th>\n",
       "      <td>Sunny</td>\n",
       "      <td>Hot</td>\n",
       "      <td>High</td>\n",
       "      <td>Strong</td>\n",
       "      <td>No</td>\n",
       "    </tr>\n",
       "    <tr>\n",
       "      <th>2</th>\n",
       "      <td>Overcast</td>\n",
       "      <td>Hot</td>\n",
       "      <td>High</td>\n",
       "      <td>Weak</td>\n",
       "      <td>Yes</td>\n",
       "    </tr>\n",
       "    <tr>\n",
       "      <th>3</th>\n",
       "      <td>Rain</td>\n",
       "      <td>Mild</td>\n",
       "      <td>High</td>\n",
       "      <td>Weak</td>\n",
       "      <td>Yes</td>\n",
       "    </tr>\n",
       "    <tr>\n",
       "      <th>4</th>\n",
       "      <td>Rain</td>\n",
       "      <td>Cool</td>\n",
       "      <td>Normal</td>\n",
       "      <td>Weak</td>\n",
       "      <td>Yes</td>\n",
       "    </tr>\n",
       "  </tbody>\n",
       "</table>\n",
       "</div>"
      ],
      "text/plain": [
       "    Outlook Temperature Humidity    Wind Play Tennis\n",
       "0     Sunny         Hot     High    Weak          No\n",
       "1     Sunny         Hot     High  Strong          No\n",
       "2  Overcast         Hot     High    Weak         Yes\n",
       "3      Rain        Mild     High    Weak         Yes\n",
       "4      Rain        Cool   Normal    Weak         Yes"
      ]
     },
     "execution_count": 3,
     "metadata": {},
     "output_type": "execute_result"
    }
   ],
   "source": [
    "data.head()"
   ]
  },
  {
   "cell_type": "code",
   "execution_count": 7,
   "id": "cb25865c-e9d1-4afd-b489-b75357b3c74c",
   "metadata": {},
   "outputs": [],
   "source": [
    "#Problem 1: Outlook=Sunny,Temp=Hot,Humidity=High,Wind=Weak.....Play or not play\n",
    "\n",
    "#Solution: P(Yes/Sunny,Hot,High,Weak) = P(Sunny/Yes) * P(Hot/Yes) * P(High/Yes) * P(Weak/Yes) * P(Yes)\n",
    "        #  P(No/Sunny,Hot,High,Weak)=P(Sunny/No) * P(Hot/No) * P(High/No) * P(Weak/No) *P(No)\n",
    "# Compare and decide using the maximum a posteriori rule"
   ]
  },
  {
   "cell_type": "code",
   "execution_count": 8,
   "id": "e3a67fed-75e4-4f4c-b36b-0836b4dedd01",
   "metadata": {},
   "outputs": [],
   "source": [
    "#Problem 2: Outlook=Overcast,Temp=Cold,Humidity=Low,Wind=Weak.....Play or not play\n",
    "\n",
    "#Solution: P(Yes/Overcast,Cold,Low,Weak) = P(Overcast/Yes) * P(Cold/Yes) * P(Low/Yes) * P(Weak/Yes) * P(Yes)\n",
    "        #  P(No/Overcast,Cold,Low,Weak)=P(Overcast/No) * P(Cold/No) * P(Low/No) * P(Weak/No) *P(No)\n",
    "# Compare and decide using the maximum a posteriori rule"
   ]
  },
  {
   "cell_type": "code",
   "execution_count": 9,
   "id": "a70cca3c-60b6-4ee8-b5fe-ce650ce0ef8f",
   "metadata": {},
   "outputs": [],
   "source": [
    "#Training: LookUp Table(dictionary)\n",
    "\n",
    "#Testing: "
   ]
  },
  {
   "cell_type": "code",
   "execution_count": 10,
   "id": "acc81d7a-ab84-4104-9107-9bcd2733d5c8",
   "metadata": {},
   "outputs": [
    {
     "data": {
      "text/plain": [
       "Play Tennis\n",
       "Yes    9\n",
       "No     5\n",
       "Name: count, dtype: int64"
      ]
     },
     "execution_count": 10,
     "metadata": {},
     "output_type": "execute_result"
    }
   ],
   "source": [
    "#P(Yes) & P(No)\n",
    "\n",
    "data['Play Tennis'].value_counts()"
   ]
  },
  {
   "cell_type": "code",
   "execution_count": 11,
   "id": "d0d23bfd-a104-453a-8ec6-d98c1a495b1c",
   "metadata": {},
   "outputs": [
    {
     "name": "stdout",
     "output_type": "stream",
     "text": [
      "0.6428571428571429\n",
      "0.35714285714285715\n"
     ]
    }
   ],
   "source": [
    "py = 9/14\n",
    "pn = 5/14\n",
    "print(py)\n",
    "print(pn)"
   ]
  },
  {
   "cell_type": "code",
   "execution_count": 13,
   "id": "5728a9b0-c996-4740-8cf6-41587d8e2725",
   "metadata": {},
   "outputs": [
    {
     "data": {
      "text/html": [
       "<div>\n",
       "<style scoped>\n",
       "    .dataframe tbody tr th:only-of-type {\n",
       "        vertical-align: middle;\n",
       "    }\n",
       "\n",
       "    .dataframe tbody tr th {\n",
       "        vertical-align: top;\n",
       "    }\n",
       "\n",
       "    .dataframe thead th {\n",
       "        text-align: right;\n",
       "    }\n",
       "</style>\n",
       "<table border=\"1\" class=\"dataframe\">\n",
       "  <thead>\n",
       "    <tr style=\"text-align: right;\">\n",
       "      <th>Play Tennis</th>\n",
       "      <th>No</th>\n",
       "      <th>Yes</th>\n",
       "    </tr>\n",
       "    <tr>\n",
       "      <th>Outlook</th>\n",
       "      <th></th>\n",
       "      <th></th>\n",
       "    </tr>\n",
       "  </thead>\n",
       "  <tbody>\n",
       "    <tr>\n",
       "      <th>Overcast</th>\n",
       "      <td>0</td>\n",
       "      <td>4</td>\n",
       "    </tr>\n",
       "    <tr>\n",
       "      <th>Rain</th>\n",
       "      <td>2</td>\n",
       "      <td>3</td>\n",
       "    </tr>\n",
       "    <tr>\n",
       "      <th>Sunny</th>\n",
       "      <td>3</td>\n",
       "      <td>2</td>\n",
       "    </tr>\n",
       "  </tbody>\n",
       "</table>\n",
       "</div>"
      ],
      "text/plain": [
       "Play Tennis  No  Yes\n",
       "Outlook             \n",
       "Overcast      0    4\n",
       "Rain          2    3\n",
       "Sunny         3    2"
      ]
     },
     "execution_count": 13,
     "metadata": {},
     "output_type": "execute_result"
    }
   ],
   "source": [
    "#Outlook\n",
    "pd.crosstab(data['Outlook'],data['Play Tennis'])"
   ]
  },
  {
   "cell_type": "code",
   "execution_count": 15,
   "id": "e30cfb71-bb8a-4c02-b6ab-5721f8e66aba",
   "metadata": {},
   "outputs": [],
   "source": [
    "pon = 0\n",
    "prn = 2/5\n",
    "psn = 3/5\n",
    "\n",
    "poy = 4/9\n",
    "pry = 4/9\n",
    "psy = 2/9"
   ]
  },
  {
   "cell_type": "code",
   "execution_count": 16,
   "id": "b507bb92-8b1f-4d40-af55-17c8ff363eac",
   "metadata": {},
   "outputs": [
    {
     "data": {
      "text/html": [
       "<div>\n",
       "<style scoped>\n",
       "    .dataframe tbody tr th:only-of-type {\n",
       "        vertical-align: middle;\n",
       "    }\n",
       "\n",
       "    .dataframe tbody tr th {\n",
       "        vertical-align: top;\n",
       "    }\n",
       "\n",
       "    .dataframe thead th {\n",
       "        text-align: right;\n",
       "    }\n",
       "</style>\n",
       "<table border=\"1\" class=\"dataframe\">\n",
       "  <thead>\n",
       "    <tr style=\"text-align: right;\">\n",
       "      <th>Play Tennis</th>\n",
       "      <th>No</th>\n",
       "      <th>Yes</th>\n",
       "    </tr>\n",
       "    <tr>\n",
       "      <th>Temperature</th>\n",
       "      <th></th>\n",
       "      <th></th>\n",
       "    </tr>\n",
       "  </thead>\n",
       "  <tbody>\n",
       "    <tr>\n",
       "      <th>Cool</th>\n",
       "      <td>1</td>\n",
       "      <td>3</td>\n",
       "    </tr>\n",
       "    <tr>\n",
       "      <th>Hot</th>\n",
       "      <td>2</td>\n",
       "      <td>2</td>\n",
       "    </tr>\n",
       "    <tr>\n",
       "      <th>Mild</th>\n",
       "      <td>2</td>\n",
       "      <td>4</td>\n",
       "    </tr>\n",
       "  </tbody>\n",
       "</table>\n",
       "</div>"
      ],
      "text/plain": [
       "Play Tennis  No  Yes\n",
       "Temperature         \n",
       "Cool          1    3\n",
       "Hot           2    2\n",
       "Mild          2    4"
      ]
     },
     "execution_count": 16,
     "metadata": {},
     "output_type": "execute_result"
    }
   ],
   "source": [
    "#Temperature\n",
    "pd.crosstab(data['Temperature'],data['Play Tennis'])"
   ]
  },
  {
   "cell_type": "code",
   "execution_count": 17,
   "id": "28a2d53b-b5e7-4499-94d0-492b437f1b5d",
   "metadata": {},
   "outputs": [],
   "source": [
    "PCoolNo = 1/5\n",
    "PHotNo = 2/5\n",
    "PMildNo = 2/5\n",
    "\n",
    "PCoolYes = 3/9\n",
    "PHotYes = 2/9\n",
    "PMildYes = 4/9"
   ]
  },
  {
   "cell_type": "code",
   "execution_count": 18,
   "id": "acf71fa2-180a-4585-b59d-1380c29d7a61",
   "metadata": {},
   "outputs": [
    {
     "data": {
      "text/html": [
       "<div>\n",
       "<style scoped>\n",
       "    .dataframe tbody tr th:only-of-type {\n",
       "        vertical-align: middle;\n",
       "    }\n",
       "\n",
       "    .dataframe tbody tr th {\n",
       "        vertical-align: top;\n",
       "    }\n",
       "\n",
       "    .dataframe thead th {\n",
       "        text-align: right;\n",
       "    }\n",
       "</style>\n",
       "<table border=\"1\" class=\"dataframe\">\n",
       "  <thead>\n",
       "    <tr style=\"text-align: right;\">\n",
       "      <th>Play Tennis</th>\n",
       "      <th>No</th>\n",
       "      <th>Yes</th>\n",
       "    </tr>\n",
       "    <tr>\n",
       "      <th>Humidity</th>\n",
       "      <th></th>\n",
       "      <th></th>\n",
       "    </tr>\n",
       "  </thead>\n",
       "  <tbody>\n",
       "    <tr>\n",
       "      <th>High</th>\n",
       "      <td>4</td>\n",
       "      <td>3</td>\n",
       "    </tr>\n",
       "    <tr>\n",
       "      <th>Normal</th>\n",
       "      <td>1</td>\n",
       "      <td>6</td>\n",
       "    </tr>\n",
       "  </tbody>\n",
       "</table>\n",
       "</div>"
      ],
      "text/plain": [
       "Play Tennis  No  Yes\n",
       "Humidity            \n",
       "High          4    3\n",
       "Normal        1    6"
      ]
     },
     "execution_count": 18,
     "metadata": {},
     "output_type": "execute_result"
    }
   ],
   "source": [
    "#Humidity\n",
    "pd.crosstab(data['Humidity'],data['Play Tennis'])"
   ]
  },
  {
   "cell_type": "code",
   "execution_count": 19,
   "id": "03f087b6-1b73-4013-856c-40059e9bd05b",
   "metadata": {},
   "outputs": [],
   "source": [
    "PHighNo = 4/5\n",
    "PNormalNo = 1/5\n",
    "\n",
    "PHighYes = 3/9\n",
    "PnormalYes = 6/9"
   ]
  },
  {
   "cell_type": "code",
   "execution_count": 20,
   "id": "fd18d978-4048-493c-bf06-154520f89ef3",
   "metadata": {},
   "outputs": [
    {
     "data": {
      "text/html": [
       "<div>\n",
       "<style scoped>\n",
       "    .dataframe tbody tr th:only-of-type {\n",
       "        vertical-align: middle;\n",
       "    }\n",
       "\n",
       "    .dataframe tbody tr th {\n",
       "        vertical-align: top;\n",
       "    }\n",
       "\n",
       "    .dataframe thead th {\n",
       "        text-align: right;\n",
       "    }\n",
       "</style>\n",
       "<table border=\"1\" class=\"dataframe\">\n",
       "  <thead>\n",
       "    <tr style=\"text-align: right;\">\n",
       "      <th>Play Tennis</th>\n",
       "      <th>No</th>\n",
       "      <th>Yes</th>\n",
       "    </tr>\n",
       "    <tr>\n",
       "      <th>Wind</th>\n",
       "      <th></th>\n",
       "      <th></th>\n",
       "    </tr>\n",
       "  </thead>\n",
       "  <tbody>\n",
       "    <tr>\n",
       "      <th>Strong</th>\n",
       "      <td>3</td>\n",
       "      <td>3</td>\n",
       "    </tr>\n",
       "    <tr>\n",
       "      <th>Weak</th>\n",
       "      <td>2</td>\n",
       "      <td>6</td>\n",
       "    </tr>\n",
       "  </tbody>\n",
       "</table>\n",
       "</div>"
      ],
      "text/plain": [
       "Play Tennis  No  Yes\n",
       "Wind                \n",
       "Strong        3    3\n",
       "Weak          2    6"
      ]
     },
     "execution_count": 20,
     "metadata": {},
     "output_type": "execute_result"
    }
   ],
   "source": [
    "#Wind\n",
    "pd.crosstab(data['Wind'],data['Play Tennis'])"
   ]
  },
  {
   "cell_type": "code",
   "execution_count": 24,
   "id": "63ce624c-0b83-4481-9d24-c05800a26988",
   "metadata": {},
   "outputs": [],
   "source": [
    "PStrongNo = 3/5\n",
    "PWeakNo = 2/5\n",
    "\n",
    "PStrongYes = 3/9\n",
    "PWeakYes = 6/9"
   ]
  },
  {
   "cell_type": "code",
   "execution_count": 25,
   "id": "8d190b14-f9fb-4e0f-85b7-749bac6ecb96",
   "metadata": {},
   "outputs": [
    {
     "name": "stdout",
     "output_type": "stream",
     "text": [
      "0.007054673721340388\n"
     ]
    }
   ],
   "source": [
    "#problem 1\n",
    "Pyes = py*psy*PHotYes*PHighYes*PWeakYes\n",
    "print(Pyes)"
   ]
  },
  {
   "cell_type": "code",
   "execution_count": 27,
   "id": "e1a58a35-c96e-4059-b12f-6f90a4465c11",
   "metadata": {},
   "outputs": [
    {
     "name": "stdout",
     "output_type": "stream",
     "text": [
      "0.02742857142857143\n"
     ]
    }
   ],
   "source": [
    "Pno = pn*psn*PHotNo*PHighNo*PWeakNo\n",
    "print(Pno)"
   ]
  },
  {
   "cell_type": "code",
   "execution_count": 28,
   "id": "4c476693-a3df-4b78-95f2-ea8bf4c469b6",
   "metadata": {},
   "outputs": [],
   "source": [
    "# No Play"
   ]
  },
  {
   "cell_type": "code",
   "execution_count": null,
   "id": "c9bbd1e9-1fe3-43f1-b000-c3f35d306803",
   "metadata": {},
   "outputs": [],
   "source": []
  }
 ],
 "metadata": {
  "kernelspec": {
   "display_name": "Python 3 (ipykernel)",
   "language": "python",
   "name": "python3"
  },
  "language_info": {
   "codemirror_mode": {
    "name": "ipython",
    "version": 3
   },
   "file_extension": ".py",
   "mimetype": "text/x-python",
   "name": "python",
   "nbconvert_exporter": "python",
   "pygments_lexer": "ipython3",
   "version": "3.13.2"
  }
 },
 "nbformat": 4,
 "nbformat_minor": 5
}
